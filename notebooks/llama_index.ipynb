{
 "cells": [
  {
   "cell_type": "code",
   "execution_count": 1,
   "metadata": {},
   "outputs": [],
   "source": [
    "import os\n",
    "from llama_index.core import SimpleDirectoryReader\n",
    "from llama_index.core.ingestion import IngestionPipeline\n",
    "from llama_index.core.node_parser import TokenTextSplitter\n"
   ]
  },
  {
   "cell_type": "code",
   "execution_count": 2,
   "metadata": {},
   "outputs": [],
   "source": [
    "PARSED_PATH = '../data/Bill_FAQs/parsed'"
   ]
  },
  {
   "cell_type": "markdown",
   "metadata": {},
   "source": [
    "## Loading & Ingestion"
   ]
  },
  {
   "cell_type": "code",
   "execution_count": 3,
   "metadata": {},
   "outputs": [
    {
     "data": {
      "text/plain": [
       "['what_is_pg&e_doing_to_make_rates_and_bills_more_affordable?.md',\n",
       " 'why_are_you_estimating_my_bill?.md',\n",
       " 'why_am_i_being_charged_a_delivery_charge?.md',\n",
       " 'when_will_i_receive_my_delayed_bill?.md',\n",
       " 'can_i_submit_a_claim_for_the_dixie_fire_impacts_to_my_property?.md',\n",
       " 'how_does_electricity_usage_translate_to_bill_charges?.md',\n",
       " 'will_i_be_required_to_pay_my_bill_all_at_once_when_i_receive_it?.md',\n",
       " 'why_is_my_electric_bill_so_high?.md',\n",
       " 'how_do_i_dispute_my_bill?.md',\n",
       " 'i_have_not_received_my_bill_yet._where_is_it?.md',\n",
       " 'how_do_i_set_up_bill_forecast_alerts?.md',\n",
       " 'why_did_i_get_another_bill_after_i_stopped_service?.md',\n",
       " 'why_does_my_collections_notice_only_show_my_pg&e_charges,_and_not_the_charges_from_my_cca?.md',\n",
       " 'where_can_i_find_my_detail_of_bill_statements?.md',\n",
       " 'my_refund_check_is_dated_over_90_days,_what_do_i_do?.md',\n",
       " 'why_does_the_california_climate_credit_show_up_as_a_previous_unpaid_balance_on_my_bill?.md',\n",
       " 'i_share_an_apartment,_how_can_i_make_my_roommate_pay?.md',\n",
       " 'do_i_still_get_my_discounts_when_my_bills_are_estimated?.md',\n",
       " 'why_did_i_get_a_letter_informing_me_i_was_under_or_over_billed?.md',\n",
       " 'where_can_i_find_andor_download_a_copy_of_my_old_bills?.md',\n",
       " 'i_am_a_sub-metered_tenant_and_i_think_my_landlord_is_not_billing_me_correctly._who_do_i_call?.md',\n",
       " 'why_are_my_winter_bills_higher_than_previous_months?.md',\n",
       " \"why_haven't_i_received_a_bill?.md\",\n",
       " 'what_steps_do_i_need_to_take_to_file_a_claim_if_my_house_was_destroyed_by_the_dixie_fire?.md',\n",
       " 'what_does_pg&e_do_to_reach_out_to_customers_before_disconnecting_(shutting_off)_service?.md',\n",
       " 'am_i_paying_more_if_my_bill_is_estimated?.md',\n",
       " 'how_do_you_estimate_my_bill?.md',\n",
       " \"why_did_i_receive_another_person's_bill?.md\",\n",
       " 'how_can_i_monitor_my_bill_during_the_month?.md',\n",
       " 'will_my_credit_be_affected_if_my_pg&e_service_is_shut_off?.md',\n",
       " 'where_can_i_find_and_download_a_copy_of_my_current_bill?.md',\n",
       " 'can_i_cancel_by_service_with_a_cta?.md',\n",
       " 'where_can_i_see_copies_of_bill_inserts?.md',\n",
       " 'do_i_need_to_pay_my_bill_if_it_is_estimated?.md',\n",
       " 'why_is_my_bill_so_high?.md',\n",
       " 'how_much_will_i_be_reimbursed_for_my_property_damaged_by_the_dixie_fire?.md',\n",
       " 'i_am_a_sub-metered_tenant;_how_do_i_find_out_how_my_bill_is_calculated?.md',\n",
       " 'what_is_an_estimated_bill?.md',\n",
       " 'how_can_i_see_bill_inserts_if_i_receive_paperless_bills?.md',\n",
       " 'i_just_moved_into_a_new_home._can_i_get_an_average_bill_cost?.md',\n",
       " 'why_is_my_bill_so_much_higher_this_month_over_last_month?.md',\n",
       " 'how_do_i_file_a_claim_with_pg&e?.md',\n",
       " 'why_is_my_gas_bill_so_high?.md',\n",
       " 'how_long_is_my_refund_check_valid?.md',\n",
       " \"what_do_i_do_if_i_receive_another_person's_bill?.md\",\n",
       " \"what_can_i_do_if_i_can't_pay_my_estimated_bill?.md\",\n",
       " 'why_did_my_pg&e_bill_change?.md']"
      ]
     },
     "execution_count": 3,
     "metadata": {},
     "output_type": "execute_result"
    }
   ],
   "source": [
    "os.listdir(PARSED_PATH)"
   ]
  },
  {
   "cell_type": "code",
   "execution_count": 4,
   "metadata": {},
   "outputs": [],
   "source": [
    "documents = SimpleDirectoryReader(PARSED_PATH).load_data()"
   ]
  },
  {
   "cell_type": "code",
   "execution_count": 5,
   "metadata": {},
   "outputs": [],
   "source": [
    "pipeline = IngestionPipeline(transformations=[TokenTextSplitter()])\n",
    "\n",
    "nodes = pipeline.run(documents=documents)"
   ]
  },
  {
   "cell_type": "code",
   "execution_count": 6,
   "metadata": {},
   "outputs": [
    {
     "name": "stdout",
     "output_type": "stream",
     "text": [
      "Doc ID: 22e6f3ce-b63d-4727-a7be-fee3547c011a\n",
      "Text: If your billing is estimated, PG&E works hard to estimate your\n",
      "usage as accurately as possible. PG&E uses a complex formula that\n",
      "includes your own historical usage, rate information, and weather\n",
      "trends to bill as close to accurate as possible. However, if your\n",
      "actual energy usage is higher than the previous year, the billed\n",
      "amount (estimated bil...\n"
     ]
    }
   ],
   "source": [
    "print(documents[0])"
   ]
  },
  {
   "cell_type": "code",
   "execution_count": 7,
   "metadata": {},
   "outputs": [
    {
     "name": "stdout",
     "output_type": "stream",
     "text": [
      "Node ID: 42e64386-7e15-4c2c-8fc9-5df74ec614b2\n",
      "Text: If your billing is estimated, PG&E works hard to estimate your\n",
      "usage as accurately as possible. PG&E uses a complex formula that\n",
      "includes your own historical usage, rate information, and weather\n",
      "trends to bill as close to accurate as possible. However, if your\n",
      "actual energy usage is higher than the previous year, the billed\n",
      "amount (estimated bil...\n"
     ]
    }
   ],
   "source": [
    "print(nodes[0])"
   ]
  },
  {
   "cell_type": "markdown",
   "metadata": {},
   "source": [
    "## Indexing"
   ]
  },
  {
   "cell_type": "code",
   "execution_count": 8,
   "metadata": {},
   "outputs": [],
   "source": [
    "# from llama_index.core import VectorStoreIndex\n",
    "\n",
    "# index = VectorStoreIndex.from_documents(documents)"
   ]
  },
  {
   "cell_type": "code",
   "execution_count": 9,
   "metadata": {},
   "outputs": [
    {
     "data": {
      "application/vnd.jupyter.widget-view+json": {
       "model_id": "4d154cfcdc5e43f699e4cb40a353c432",
       "version_major": 2,
       "version_minor": 0
      },
      "text/plain": [
       "Generating embeddings:   0%|          | 0/52 [00:00<?, ?it/s]"
      ]
     },
     "metadata": {},
     "output_type": "display_data"
    }
   ],
   "source": [
    "from llama_index.core import VectorStoreIndex\n",
    "\n",
    "index = VectorStoreIndex(nodes, show_progress=True)"
   ]
  },
  {
   "cell_type": "markdown",
   "metadata": {},
   "source": [
    "## Storing"
   ]
  },
  {
   "cell_type": "code",
   "execution_count": 10,
   "metadata": {},
   "outputs": [],
   "source": [
    "PERSIST_DIR = '../data/RAG'\n",
    "\n",
    "index.storage_context.persist(persist_dir=PERSIST_DIR)"
   ]
  },
  {
   "cell_type": "markdown",
   "metadata": {},
   "source": [
    "## Loading the persisted index"
   ]
  },
  {
   "cell_type": "code",
   "execution_count": 11,
   "metadata": {},
   "outputs": [],
   "source": [
    "from llama_index.core import StorageContext, load_index_from_storage\n",
    "\n",
    "# rebuild storage context\n",
    "storage_context = StorageContext.from_defaults(persist_dir=PERSIST_DIR)\n",
    "\n",
    "# load index\n",
    "index = load_index_from_storage(storage_context)"
   ]
  },
  {
   "cell_type": "markdown",
   "metadata": {},
   "source": [
    "## Using Vector Stores"
   ]
  },
  {
   "cell_type": "code",
   "execution_count": 12,
   "metadata": {},
   "outputs": [],
   "source": [
    "CHROMA_DB_PERSISTENT_PATH = '../data/chroma_db'\n",
    "CHROMA_DB_COLLECTION_NAME = \"bills_faqs\""
   ]
  },
  {
   "cell_type": "code",
   "execution_count": 13,
   "metadata": {},
   "outputs": [
    {
     "name": "stdout",
     "output_type": "stream",
     "text": [
      "The meaning of life is a philosophical question that has been debated for centuries and varies depending on individual beliefs, values, and perspectives.\n"
     ]
    }
   ],
   "source": [
    "import chromadb\n",
    "from llama_index.core import VectorStoreIndex, SimpleDirectoryReader\n",
    "from llama_index.vector_stores.chroma import ChromaVectorStore\n",
    "from llama_index.core import StorageContext\n",
    "\n",
    "# load some documents\n",
    "documents = SimpleDirectoryReader(PARSED_PATH).load_data()\n",
    "\n",
    "# initialize client, setting path to save data\n",
    "db = chromadb.PersistentClient(path=CHROMA_DB_PERSISTENT_PATH)\n",
    "\n",
    "# create collection\n",
    "chroma_collection = db.get_or_create_collection(CHROMA_DB_COLLECTION_NAME)\n",
    "\n",
    "# assign chroma as the vector_store to the context\n",
    "vector_store = ChromaVectorStore(chroma_collection=chroma_collection)\n",
    "storage_context = StorageContext.from_defaults(vector_store=vector_store)\n",
    "\n",
    "# create your index\n",
    "index = VectorStoreIndex.from_documents(\n",
    "    documents, storage_context=storage_context\n",
    ")\n",
    "\n",
    "# create a query engine and query\n",
    "query_engine = index.as_query_engine()\n",
    "response = query_engine.query(\"What is the meaning of life?\")\n",
    "print(response)"
   ]
  },
  {
   "cell_type": "markdown",
   "metadata": {},
   "source": [
    "## Load embeddings directly"
   ]
  },
  {
   "cell_type": "code",
   "execution_count": 14,
   "metadata": {},
   "outputs": [
    {
     "name": "stdout",
     "output_type": "stream",
     "text": [
      "There is no information provided about \"llama2\" in the context.\n"
     ]
    }
   ],
   "source": [
    "import chromadb\n",
    "from llama_index.core import VectorStoreIndex\n",
    "from llama_index.vector_stores.chroma import ChromaVectorStore\n",
    "from llama_index.core import StorageContext\n",
    "\n",
    "# initialize client\n",
    "db = chromadb.PersistentClient(path=CHROMA_DB_PERSISTENT_PATH)\n",
    "\n",
    "# get collection\n",
    "chroma_collection = db.get_or_create_collection(CHROMA_DB_COLLECTION_NAME)\n",
    "\n",
    "# assign chroma as the vector_store to the context\n",
    "vector_store = ChromaVectorStore(chroma_collection=chroma_collection)\n",
    "storage_context = StorageContext.from_defaults(vector_store=vector_store)\n",
    "\n",
    "# load your index from stored vectors\n",
    "index = VectorStoreIndex.from_vector_store(\n",
    "    vector_store, storage_context=storage_context\n",
    ")\n",
    "\n",
    "# create a query engine\n",
    "query_engine = index.as_query_engine()\n",
    "response = query_engine.query(\"What is llama2?\")\n",
    "print(response)"
   ]
  },
  {
   "cell_type": "code",
   "execution_count": 15,
   "metadata": {},
   "outputs": [
    {
     "name": "stdout",
     "output_type": "stream",
     "text": [
      "If your bill is estimated, you may end up paying more if the estimated amount is higher than your actual usage. However, any overpayment will be credited towards your next bill(s). On the other hand, if the estimated amount is lower than your actual usage, you will owe an additional amount that will appear on your adjusted statement.\n"
     ]
    }
   ],
   "source": [
    "question = \"am I paying more if my bill is estimated?\"\n",
    "response = query_engine.query(question)\n",
    "print(response)"
   ]
  },
  {
   "cell_type": "code",
   "execution_count": 16,
   "metadata": {},
   "outputs": [
    {
     "name": "stdout",
     "output_type": "stream",
     "text": [
      "Your gas bill may be high due to a combination of factors such as higher natural gas prices, increased energy use during colder months, and market conditions affecting gas prices. Additionally, the usage of natural gas can vary based on the season, changes in lifestyle, or the addition of family members, all of which can contribute to fluctuations in your gas bill. To better understand and potentially reduce your gas bill, you can monitor your usage patterns, consider energy-saving tips, and explore assistance programs offered by your gas provider.\n"
     ]
    }
   ],
   "source": [
    "question = \"Why is my gas bill so high?\"\n",
    "response = query_engine.query(question)\n",
    "print(response)"
   ]
  },
  {
   "cell_type": "code",
   "execution_count": 17,
   "metadata": {},
   "outputs": [
    {
     "data": {
      "text/plain": [
       "'Your gas bill may be high due to a combination of factors such as higher natural gas prices, increased energy use during colder months, and market conditions affecting gas prices. Additionally, the usage of natural gas can vary based on the season, changes in lifestyle, or the addition of family members, all of which can contribute to fluctuations in your gas bill. To better understand and potentially reduce your gas bill, you can monitor your usage patterns, consider energy-saving tips, and explore assistance programs offered by your gas provider.'"
      ]
     },
     "execution_count": 17,
     "metadata": {},
     "output_type": "execute_result"
    }
   ],
   "source": [
    "response.response"
   ]
  },
  {
   "cell_type": "markdown",
   "metadata": {},
   "source": [
    "## Inserting Documents or Nodes"
   ]
  },
  {
   "cell_type": "code",
   "execution_count": 18,
   "metadata": {},
   "outputs": [],
   "source": [
    "# from llama_index.core import VectorStoreIndex\n",
    "\n",
    "# index = VectorStoreIndex([])\n",
    "# for doc in documents:\n",
    "#     index.insert(doc)"
   ]
  }
 ],
 "metadata": {
  "kernelspec": {
   "display_name": "venv",
   "language": "python",
   "name": "python3"
  },
  "language_info": {
   "codemirror_mode": {
    "name": "ipython",
    "version": 3
   },
   "file_extension": ".py",
   "mimetype": "text/x-python",
   "name": "python",
   "nbconvert_exporter": "python",
   "pygments_lexer": "ipython3",
   "version": "3.10.9"
  }
 },
 "nbformat": 4,
 "nbformat_minor": 2
}
